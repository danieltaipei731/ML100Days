{
 "cells": [
  {
   "cell_type": "markdown",
   "metadata": {},
   "source": [
    "## 練習時間\n",
    "#### 請寫一個函式用來計算 Mean Square Error\n",
    "$ MSE = \\frac{1}{n}\\sum_{i=1}^{n}{(Y_i - \\hat{Y}_i)^2} $\n",
    "\n",
    "### Hint: [如何取平方](https://googoodesign.gitbooks.io/-ezpython/unit-1.html)"
   ]
  },
  {
   "cell_type": "markdown",
   "metadata": {},
   "source": [
    "# [作業目標]\n",
    "- 仿造範例的MAE函數, 自己寫一個MSE函數(參考上面公式)"
   ]
  },
  {
   "cell_type": "markdown",
   "metadata": {},
   "source": [
    "# [作業重點]\n",
    "- 注意程式的縮排\n",
    "- 是否能將數學公式, 轉換為 Python 的函式組合? (In[2], Out[2])"
   ]
  },
  {
   "cell_type": "code",
   "execution_count": 1,
   "metadata": {},
   "outputs": [],
   "source": [
    "# 載入基礎套件與代稱\n",
    "import numpy as np\n",
    "import matplotlib.pyplot as plt"
   ]
  },
  {
   "cell_type": "code",
   "execution_count": 2,
   "metadata": {},
   "outputs": [],
   "source": [
    "def mean_absolute_error(y, yp):\n",
    "    \"\"\"\n",
    "    計算 MAE\n",
    "    Args:\n",
    "        - y: 實際值\n",
    "        - yp: 預測值\n",
    "    Return:\n",
    "        - mae: MAE\n",
    "    \"\"\"\n",
    "    mae = MAE = sum(abs(y - yp)) / len(y)\n",
    "    return mae\n",
    "\n",
    "# 定義 mean_squared_error 這個函數, 計算並傳回 MSE\n",
    "def mean_squared_error(y, yp):\n",
    "    \"\"\"\n",
    "    請完成這個 Function 後往下執行\n",
    "    \"\"\"\n",
    "    mse = sum((y - yp)**2) / len(y)\n",
    "    return mse"
   ]
  },
  {
   "cell_type": "code",
   "execution_count": 3,
   "metadata": {},
   "outputs": [
    {
     "data": {
      "image/png": "[encoded data removed]",
      "text/plain": [
       "<Figure size 432x288 with 1 Axes>"
      ]
     },
     "metadata": {
      "needs_background": "light"
     },
     "output_type": "display_data"
    }
   ],
   "source": [
    "# 與範例相同, 不另外解說\n",
    "w = 3\n",
    "b = 0.5\n",
    "x_lin = np.linspace(0, 100, 101)\n",
    "y = (x_lin + np.random.randn(101) * 5) * w + b\n",
    "\n",
    "plt.plot(x_lin, y, 'b.', label = 'data points')\n",
    "plt.title(\"Assume we have data points\")\n",
    "plt.legend(loc = 2)\n",
    "plt.show()"
   ]
  },
  {
   "cell_type": "code",
   "execution_count": 4,
   "metadata": {},
   "outputs": [
    {
     "data": {
      "image/png": "[encoded data removed]",
      "text/plain": [
       "<Figure size 432x288 with 1 Axes>"
      ]
     },
     "metadata": {
      "needs_background": "light"
     },
     "output_type": "display_data"
    }
   ],
   "source": [
    "# 與範例相同, 不另外解說\n",
    "y_hat = x_lin * w + b\n",
    "plt.plot(x_lin, y, 'b.', label = 'data')\n",
    "plt.plot(x_lin, y_hat, 'r-', label = 'prediction')\n",
    "plt.title(\"Assume we have data points (And the prediction)\")\n",
    "plt.legend(loc = 2)\n",
    "plt.show()"
   ]
  },
  {
   "cell_type": "code",
   "execution_count": 5,
   "metadata": {},
   "outputs": [
    {
     "name": "stdout",
     "output_type": "stream",
     "text": [
      "The Mean squared error is 221.270\n",
      "The Mean absolute error is 11.389\n"
     ]
    }
   ],
   "source": [
    "# 執行 Function, 確認有沒有正常執行\n",
    "MSE = mean_squared_error(y, y_hat)\n",
    "MAE = mean_absolute_error(y, y_hat)\n",
    "print(\"The Mean squared error is %.3f\" % (MSE))\n",
    "print(\"The Mean absolute error is %.3f\" % (MAE))"
   ]
  },
  {
   "cell_type": "markdown",
   "metadata": {},
   "source": [
    "# [作業2]\n",
    "\n",
    "請上 Kaggle, 在 Competitions 或 Dataset 中找一組競賽或資料並寫下：\n",
    "\n",
    "資料:Solar Power Generation Data https://www.kaggle.com/anikannal/solar-power-generation-data\n",
    "\n",
    "1. 你選的這組資料為何重要\n",
    "   \n",
    "   隨著地球暖化越來越嚴峻，能源使用的議題也是全球各國在探討的。像是核能、風力發電、水力 發電、太陽能發電等等，大家都在探討甚麼樣的能源既環保  \n",
    "   又能產出最多的能源。這組資料的重要性是去測試太陽能發電的最大可能性是否可以成為實用的能源。\n",
    "   \n",
    "   \n",
    "2. 資料從何而來 (tips: 譬如提供者是誰、以什麼方式蒐集)\n",
    "\n",
    "   這資料是從兩座位於印度的太陽能發電站所提供。數值皆由不同的感應器收集而來，像是能量產出的數據集是從太陽光變頻器端收集和感應器偵測的數據集\n",
    "   \n",
    "   是由發電廠端。\n",
    "   \n",
    "\n",
    "3. 蒐集而來的資料型態為何\n",
    "\n",
    "   結構化資料: csv \n",
    "   \n",
    "   有plant1和plant2的Generation Data和Weather Sensor Data\n",
    "   \n",
    "   Generation Data: DATE_TIME (時間序列)、PLANT_ID (數值)、SOURCE_KEY(字串)、\n",
    "   \n",
    "   DC_POWER (數值)、AC_POWER (數值)、DAILY_YIELD (數值)、TOTAL_YIELD (數值)。\n",
    "   \n",
    "   Weather Sensor Data: DATE_TIME (時間序列)、PLANT_ID (數值)、SOURCE_KEY(字串)、\n",
    "   \n",
    "   AMBIENT_TEMPERATURE (數值)、MODULE_TEMPERATURE (數值)、IRRADIATION (數值)。\n",
    "   \n",
    "\n",
    "4. 這組資料想解決的問題如何評估\n",
    "\n",
    "   能否預測接下來幾天的產電量會用迴歸問題的方式評估像是MAE和RMSE。\n",
    "   \n",
    "\n",
    "# [作業3]\n",
    "\n",
    "想像你經營一個自由載客車隊，你希望能透過數據分析以提升業績，請你思考並描述你如何規劃整體的分析/解決方案：\n",
    "\n",
    "1. 核心問題為何 (tips：如何定義 「提升業績 & 你的假設」)\n",
    "\n",
    "   核心問題就是如何提升載客量根據不同時間斷及不同地點來找出較高的載客率來提升效率。\n",
    "   \n",
    "\n",
    "2. 資料從何而來 (tips：哪些資料可能會對你想問的問題產生影響 & 資料如何蒐集)\n",
    "\n",
    "   從所有使用過APP叫車的使用者的坐車歷史紀錄當中，找出使用者上車的地點、時間、搭乘距離、搭乘時間等等。\n",
    "   \n",
    "\n",
    "3. 蒐集而來的資料型態為何\n",
    "\n",
    "   結構化資料: csv或json\n",
    "   \n",
    "   會有時間序列、數值、和類別型資料。\n",
    "   \n",
    "\n",
    "4. 你要回答的問題，其如何評估 (tips：你的假設如何驗證)\n",
    "\n",
    "   預測出在甚麼時間點哪個地段會有較高的乘客搭車需求。 這是分類問題的方式評估像是正確率和AUC。\n",
    "   \n",
    "   預測在這個地點的平均載客率來分配相對應的司機。這是迴歸問題的方式評估像是MAE和RMSE。"
   ]
  },
  {
   "cell_type": "code",
   "execution_count": null,
   "metadata": {},
   "outputs": [],
   "source": []
  }
 ],
 "metadata": {
  "anaconda-cloud": {},
  "kernelspec": {
   "display_name": "Python 3",
   "language": "python",
   "name": "python3"
  },
  "language_info": {
   "codemirror_mode": {
    "name": "ipython",
    "version": 3
   },
   "file_extension": ".py",
   "mimetype": "text/x-python",
   "name": "python",
   "nbconvert_exporter": "python",
   "pygments_lexer": "ipython3",
   "version": "3.7.6"
  }
 },
 "nbformat": 4,
 "nbformat_minor": 1
}
